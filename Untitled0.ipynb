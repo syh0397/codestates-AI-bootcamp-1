{
  "nbformat": 4,
  "nbformat_minor": 0,
  "metadata": {
    "colab": {
      "name": "Untitled0.ipynb",
      "provenance": [],
      "authorship_tag": "ABX9TyOJC10oe+mq/8XQrXS4bxtI",
      "include_colab_link": true
    },
    "kernelspec": {
      "name": "python3",
      "display_name": "Python 3"
    }
  },
  "cells": [
    {
      "cell_type": "markdown",
      "metadata": {
        "id": "view-in-github",
        "colab_type": "text"
      },
      "source": [
        "<a href=\"https://colab.research.google.com/github/syh0397/codestates-AI-bootcamp-1/blob/main/Untitled0.ipynb\" target=\"_parent\"><img src=\"https://colab.research.google.com/assets/colab-badge.svg\" alt=\"Open In Colab\"/></a>"
      ]
    },
    {
      "cell_type": "markdown",
      "metadata": {
        "id": "bIn6OXDCQ5zg"
      },
      "source": [
        "#VGames2.csv Data Analysis"
      ]
    },
    {
      "cell_type": "markdown",
      "metadata": {
        "id": "7Tepx13MMOSF"
      },
      "source": [
        "# **1 . 기본 패키지불러오기**"
      ]
    },
    {
      "cell_type": "code",
      "metadata": {
        "id": "kTBQHvmHmNEh"
      },
      "source": [
        "#라이브러리 불러오기 \r\n",
        "import pandas as pd\r\n",
        "import numpy as np\r\n",
        "import matplotlib.pyplot as plt\r\n",
        "import seaborn as sns"
      ],
      "execution_count": 28,
      "outputs": []
    },
    {
      "cell_type": "code",
      "metadata": {
        "colab": {
          "base_uri": "https://localhost:8080/"
        },
        "id": "Qn_W_pexqXZ2",
        "outputId": "ff9dc8a1-3473-4fe1-e383-d7dc717bbd08"
      },
      "source": [
        "#글꼴설치\r\n",
        "!sudo apt-get install -y fonts-nanum\r\n",
        "!sudo fc-cache -fv\r\n",
        "!rm ~/.cache/matplotlib -rf"
      ],
      "execution_count": 29,
      "outputs": [
        {
          "output_type": "stream",
          "text": [
            "Reading package lists... Done\n",
            "Building dependency tree       \n",
            "Reading state information... Done\n",
            "fonts-nanum is already the newest version (20170925-1).\n",
            "0 upgraded, 0 newly installed, 0 to remove and 12 not upgraded.\n",
            "/usr/share/fonts: caching, new cache contents: 0 fonts, 1 dirs\n",
            "/usr/share/fonts/truetype: caching, new cache contents: 0 fonts, 3 dirs\n",
            "/usr/share/fonts/truetype/humor-sans: caching, new cache contents: 1 fonts, 0 dirs\n",
            "/usr/share/fonts/truetype/liberation: caching, new cache contents: 16 fonts, 0 dirs\n",
            "/usr/share/fonts/truetype/nanum: caching, new cache contents: 10 fonts, 0 dirs\n",
            "/usr/local/share/fonts: caching, new cache contents: 0 fonts, 0 dirs\n",
            "/root/.local/share/fonts: skipping, no such directory\n",
            "/root/.fonts: skipping, no such directory\n",
            "/var/cache/fontconfig: cleaning cache directory\n",
            "/root/.cache/fontconfig: not cleaning non-existent cache directory\n",
            "/root/.fontconfig: not cleaning non-existent cache directory\n",
            "fc-cache: succeeded\n"
          ],
          "name": "stdout"
        }
      ]
    },
    {
      "cell_type": "markdown",
      "metadata": {
        "id": "9Sl51St0fcZg"
      },
      "source": [
        "\r\n",
        "**데이터 불러오기**"
      ]
    },
    {
      "cell_type": "code",
      "metadata": {
        "colab": {
          "base_uri": "https://localhost:8080/",
          "height": 0
        },
        "id": "liH94kigpaki",
        "outputId": "f9a95d40-73ee-47a8-db1a-4e44d4cb3ac9"
      },
      "source": [
        "df = pd.read_csv('https://ds-lecture-data.s3.ap-northeast-2.amazonaws.com/datasets/vgames2.csv')\r\n",
        "df.tail()"
      ],
      "execution_count": 30,
      "outputs": [
        {
          "output_type": "execute_result",
          "data": {
            "text/html": [
              "<div>\n",
              "<style scoped>\n",
              "    .dataframe tbody tr th:only-of-type {\n",
              "        vertical-align: middle;\n",
              "    }\n",
              "\n",
              "    .dataframe tbody tr th {\n",
              "        vertical-align: top;\n",
              "    }\n",
              "\n",
              "    .dataframe thead th {\n",
              "        text-align: right;\n",
              "    }\n",
              "</style>\n",
              "<table border=\"1\" class=\"dataframe\">\n",
              "  <thead>\n",
              "    <tr style=\"text-align: right;\">\n",
              "      <th></th>\n",
              "      <th>Unnamed: 0</th>\n",
              "      <th>Name</th>\n",
              "      <th>Platform</th>\n",
              "      <th>Year</th>\n",
              "      <th>Genre</th>\n",
              "      <th>Publisher</th>\n",
              "      <th>NA_Sales</th>\n",
              "      <th>EU_Sales</th>\n",
              "      <th>JP_Sales</th>\n",
              "      <th>Other_Sales</th>\n",
              "    </tr>\n",
              "  </thead>\n",
              "  <tbody>\n",
              "    <tr>\n",
              "      <th>16593</th>\n",
              "      <td>16594</td>\n",
              "      <td>Ice Age 2: The Meltdown</td>\n",
              "      <td>GC</td>\n",
              "      <td>2006.0</td>\n",
              "      <td>Platform</td>\n",
              "      <td>Vivendi Games</td>\n",
              "      <td>0.15</td>\n",
              "      <td>0.04</td>\n",
              "      <td>0</td>\n",
              "      <td>0.01</td>\n",
              "    </tr>\n",
              "    <tr>\n",
              "      <th>16594</th>\n",
              "      <td>16595</td>\n",
              "      <td>Rainbow Islands: Revolution</td>\n",
              "      <td>PSP</td>\n",
              "      <td>2005.0</td>\n",
              "      <td>Action</td>\n",
              "      <td>Rising Star Games</td>\n",
              "      <td>0.01</td>\n",
              "      <td>0</td>\n",
              "      <td>0</td>\n",
              "      <td>0</td>\n",
              "    </tr>\n",
              "    <tr>\n",
              "      <th>16595</th>\n",
              "      <td>16596</td>\n",
              "      <td>NBA 2K16</td>\n",
              "      <td>PS3</td>\n",
              "      <td>2015.0</td>\n",
              "      <td>Sports</td>\n",
              "      <td>Take-Two Interactive</td>\n",
              "      <td>0.44</td>\n",
              "      <td>0.19</td>\n",
              "      <td>0.03</td>\n",
              "      <td>0.13</td>\n",
              "    </tr>\n",
              "    <tr>\n",
              "      <th>16596</th>\n",
              "      <td>16597</td>\n",
              "      <td>Toukiden: The Age of Demons</td>\n",
              "      <td>PSV</td>\n",
              "      <td>2013.0</td>\n",
              "      <td>Action</td>\n",
              "      <td>Tecmo Koei</td>\n",
              "      <td>0.05</td>\n",
              "      <td>0.05</td>\n",
              "      <td>0.25</td>\n",
              "      <td>0.03</td>\n",
              "    </tr>\n",
              "    <tr>\n",
              "      <th>16597</th>\n",
              "      <td>16598</td>\n",
              "      <td>The King of Fighters '95</td>\n",
              "      <td>PS</td>\n",
              "      <td>1996.0</td>\n",
              "      <td>Fighting</td>\n",
              "      <td>Sony Computer Entertainment</td>\n",
              "      <td>0</td>\n",
              "      <td>0</td>\n",
              "      <td>0.16</td>\n",
              "      <td>0.01</td>\n",
              "    </tr>\n",
              "  </tbody>\n",
              "</table>\n",
              "</div>"
            ],
            "text/plain": [
              "       Unnamed: 0                         Name  ... JP_Sales  Other_Sales\n",
              "16593       16594      Ice Age 2: The Meltdown  ...        0         0.01\n",
              "16594       16595  Rainbow Islands: Revolution  ...        0            0\n",
              "16595       16596                     NBA 2K16  ...     0.03         0.13\n",
              "16596       16597  Toukiden: The Age of Demons  ...     0.25         0.03\n",
              "16597       16598     The King of Fighters '95  ...     0.16         0.01\n",
              "\n",
              "[5 rows x 10 columns]"
            ]
          },
          "metadata": {
            "tags": []
          },
          "execution_count": 30
        }
      ]
    },
    {
      "cell_type": "markdown",
      "metadata": {
        "id": "VMQjeURUqCTV"
      },
      "source": [
        "# **2. 데이터 확인**"
      ]
    },
    {
      "cell_type": "code",
      "metadata": {
        "colab": {
          "base_uri": "https://localhost:8080/"
        },
        "id": "zs7--Lkqpi1H",
        "outputId": "43802a16-f22a-40fe-be79-1383ab6a91f6"
      },
      "source": [
        "df.shape\r\n",
        "#총 값은 16598개 행 10 열 "
      ],
      "execution_count": 31,
      "outputs": [
        {
          "output_type": "execute_result",
          "data": {
            "text/plain": [
              "(16598, 10)"
            ]
          },
          "metadata": {
            "tags": []
          },
          "execution_count": 31
        }
      ]
    },
    {
      "cell_type": "code",
      "metadata": {
        "colab": {
          "base_uri": "https://localhost:8080/"
        },
        "id": "537WQITKpvZB",
        "outputId": "a09fd027-b73c-43e7-c82e-7169ca1a7beb"
      },
      "source": [
        "df.info()"
      ],
      "execution_count": 32,
      "outputs": [
        {
          "output_type": "stream",
          "text": [
            "<class 'pandas.core.frame.DataFrame'>\n",
            "RangeIndex: 16598 entries, 0 to 16597\n",
            "Data columns (total 10 columns):\n",
            " #   Column       Non-Null Count  Dtype  \n",
            "---  ------       --------------  -----  \n",
            " 0   Unnamed: 0   16598 non-null  int64  \n",
            " 1   Name         16598 non-null  object \n",
            " 2   Platform     16598 non-null  object \n",
            " 3   Year         16327 non-null  float64\n",
            " 4   Genre        16548 non-null  object \n",
            " 5   Publisher    16540 non-null  object \n",
            " 6   NA_Sales     16598 non-null  object \n",
            " 7   EU_Sales     16598 non-null  object \n",
            " 8   JP_Sales     16598 non-null  object \n",
            " 9   Other_Sales  16598 non-null  object \n",
            "dtypes: float64(1), int64(1), object(8)\n",
            "memory usage: 1.3+ MB\n"
          ],
          "name": "stdout"
        }
      ]
    },
    {
      "cell_type": "code",
      "metadata": {
        "colab": {
          "base_uri": "https://localhost:8080/"
        },
        "id": "AFZfs1cZqe0B",
        "outputId": "1c7389fd-7584-411e-e5ac-140c5b6ff561"
      },
      "source": [
        "df.isnull().sum()"
      ],
      "execution_count": 33,
      "outputs": [
        {
          "output_type": "execute_result",
          "data": {
            "text/plain": [
              "Unnamed: 0       0\n",
              "Name             0\n",
              "Platform         0\n",
              "Year           271\n",
              "Genre           50\n",
              "Publisher       58\n",
              "NA_Sales         0\n",
              "EU_Sales         0\n",
              "JP_Sales         0\n",
              "Other_Sales      0\n",
              "dtype: int64"
            ]
          },
          "metadata": {
            "tags": []
          },
          "execution_count": 33
        }
      ]
    },
    {
      "cell_type": "markdown",
      "metadata": {
        "id": "I_0rw-HJqkig"
      },
      "source": [
        "결측치 확인 결과 year : 271 개 / Genre : 50개 / Publisher  58개\r\n"
      ]
    },
    {
      "cell_type": "code",
      "metadata": {
        "id": "AYWRyByStZTW",
        "colab": {
          "base_uri": "https://localhost:8080/",
          "height": 0
        },
        "outputId": "356f78cc-7203-45d7-da30-7d36215a043b"
      },
      "source": [
        "print(df.describe())\r\n",
        "\"\"\"\r\n",
        "# 이상한점 1. sales는 나오지 않는다 - 문자가 포함되어 있음 그래서 문자를 없애 주어야함 \r\n",
        "기본 단위는 M \r\n",
        "1. K를 M으로 없애고 M을 지운다. \r\n",
        "\r\n",
        "# 이상한점 2. Year에서 최솟값이 0 이고 평균이 1994 라는 이야기는 숫자가 잘못 설정 되었음을 말해준다. \r\n",
        "1. 결측치를 0으로 바꾼다. (NA)\r\n",
        "2. 1~9 까지는 200을 앞에 붙인다. \r\n",
        "3. 10~50 이하는 2000년도로 바꾸고 \r\n",
        "4. 50 이상은 1900년도로 바꾼다.\r\n",
        "5. 0은 평균 값으로 변경한다.  \r\n",
        "\r\n",
        "# 이상한점 3 Unnamed: 0 -  drop\r\n",
        "# Publisher 결측값은 삭제 \r\n",
        "\"\"\""
      ],
      "execution_count": 34,
      "outputs": [
        {
          "output_type": "stream",
          "text": [
            "         Unnamed: 0          Year\n",
            "count  16598.000000  16327.000000\n",
            "mean    8299.500000   1994.242543\n",
            "std     4791.574219    155.077168\n",
            "min        1.000000      0.000000\n",
            "25%     4150.250000   2003.000000\n",
            "50%     8299.500000   2007.000000\n",
            "75%    12448.750000   2010.000000\n",
            "max    16598.000000   2020.000000\n"
          ],
          "name": "stdout"
        },
        {
          "output_type": "execute_result",
          "data": {
            "application/vnd.google.colaboratory.intrinsic+json": {
              "type": "string"
            },
            "text/plain": [
              "'\\n# 이상한점 1. sales는 나오지 않는다 - 문자가 포함되어 있음 그래서 문자를 없애 주어야함 \\n기본 단위는 M \\n1. K를 M으로 없애고 M을 지운다. \\n\\n# 이상한점 2. Year에서 최솟값이 0 이고 평균이 1994 라는 이야기는 숫자가 잘못 설정 되었음을 말해준다. \\n1. 결측치를 0으로 바꾼다. (NA)\\n2. 1~9 까지는 200을 앞에 붙인다. \\n3. 10~50 이하는 2000년도로 바꾸고 \\n4. 50 이상은 1900년도로 바꾼다.\\n5. 0은 평균 값으로 변경한다.  \\n\\n# 이상한점 3 Unnamed: 0 -  drop\\n# Publisher 결측값은 삭제 \\n'"
            ]
          },
          "metadata": {
            "tags": []
          },
          "execution_count": 34
        }
      ]
    },
    {
      "cell_type": "markdown",
      "metadata": {
        "id": "C1TAtf4yMD7c"
      },
      "source": [
        "# **3. 데이터 전처리**"
      ]
    },
    {
      "cell_type": "markdown",
      "metadata": {
        "id": "iKB0XFwcmGQw"
      },
      "source": [
        "#### **Unnamed: 0 탈락시키기**"
      ]
    },
    {
      "cell_type": "code",
      "metadata": {
        "id": "akxNHeyNmKMQ"
      },
      "source": [
        "df.drop('Unnamed: 0', inplace=True, axis=1)\r\n",
        "df1 = df"
      ],
      "execution_count": 35,
      "outputs": []
    },
    {
      "cell_type": "code",
      "metadata": {
        "id": "GuaZxVZ15dtk"
      },
      "source": [
        "df1 = df"
      ],
      "execution_count": 36,
      "outputs": []
    },
    {
      "cell_type": "markdown",
      "metadata": {
        "id": "ZrADGPsnR5aF"
      },
      "source": [
        "#### **K랑 M지우기**\r\n",
        "\r\n"
      ]
    },
    {
      "cell_type": "code",
      "metadata": {
        "colab": {
          "base_uri": "https://localhost:8080/",
          "height": 391
        },
        "id": "S9Uoal_wGo3e",
        "outputId": "50c5818d-448a-41ee-8433-fedd613f98ac"
      },
      "source": [
        "subset1 = df1[['NA_Sales', 'EU_Sales', 'JP_Sales','Other_Sales']]\r\n",
        "subset1 # 판매량 따로 "
      ],
      "execution_count": 37,
      "outputs": [
        {
          "output_type": "execute_result",
          "data": {
            "text/html": [
              "<div>\n",
              "<style scoped>\n",
              "    .dataframe tbody tr th:only-of-type {\n",
              "        vertical-align: middle;\n",
              "    }\n",
              "\n",
              "    .dataframe tbody tr th {\n",
              "        vertical-align: top;\n",
              "    }\n",
              "\n",
              "    .dataframe thead th {\n",
              "        text-align: right;\n",
              "    }\n",
              "</style>\n",
              "<table border=\"1\" class=\"dataframe\">\n",
              "  <thead>\n",
              "    <tr style=\"text-align: right;\">\n",
              "      <th></th>\n",
              "      <th>NA_Sales</th>\n",
              "      <th>EU_Sales</th>\n",
              "      <th>JP_Sales</th>\n",
              "      <th>Other_Sales</th>\n",
              "    </tr>\n",
              "  </thead>\n",
              "  <tbody>\n",
              "    <tr>\n",
              "      <th>0</th>\n",
              "      <td>0.04</td>\n",
              "      <td>0</td>\n",
              "      <td>0</td>\n",
              "      <td>0</td>\n",
              "    </tr>\n",
              "    <tr>\n",
              "      <th>1</th>\n",
              "      <td>0.17</td>\n",
              "      <td>0</td>\n",
              "      <td>0</td>\n",
              "      <td>0.01</td>\n",
              "    </tr>\n",
              "    <tr>\n",
              "      <th>2</th>\n",
              "      <td>0</td>\n",
              "      <td>0</td>\n",
              "      <td>0.02</td>\n",
              "      <td>0</td>\n",
              "    </tr>\n",
              "    <tr>\n",
              "      <th>3</th>\n",
              "      <td>0.04</td>\n",
              "      <td>0</td>\n",
              "      <td>0</td>\n",
              "      <td>0</td>\n",
              "    </tr>\n",
              "    <tr>\n",
              "      <th>4</th>\n",
              "      <td>0.12</td>\n",
              "      <td>0.09</td>\n",
              "      <td>0</td>\n",
              "      <td>0.04</td>\n",
              "    </tr>\n",
              "    <tr>\n",
              "      <th>...</th>\n",
              "      <td>...</td>\n",
              "      <td>...</td>\n",
              "      <td>...</td>\n",
              "      <td>...</td>\n",
              "    </tr>\n",
              "    <tr>\n",
              "      <th>16593</th>\n",
              "      <td>0.15</td>\n",
              "      <td>0.04</td>\n",
              "      <td>0</td>\n",
              "      <td>0.01</td>\n",
              "    </tr>\n",
              "    <tr>\n",
              "      <th>16594</th>\n",
              "      <td>0.01</td>\n",
              "      <td>0</td>\n",
              "      <td>0</td>\n",
              "      <td>0</td>\n",
              "    </tr>\n",
              "    <tr>\n",
              "      <th>16595</th>\n",
              "      <td>0.44</td>\n",
              "      <td>0.19</td>\n",
              "      <td>0.03</td>\n",
              "      <td>0.13</td>\n",
              "    </tr>\n",
              "    <tr>\n",
              "      <th>16596</th>\n",
              "      <td>0.05</td>\n",
              "      <td>0.05</td>\n",
              "      <td>0.25</td>\n",
              "      <td>0.03</td>\n",
              "    </tr>\n",
              "    <tr>\n",
              "      <th>16597</th>\n",
              "      <td>0</td>\n",
              "      <td>0</td>\n",
              "      <td>0.16</td>\n",
              "      <td>0.01</td>\n",
              "    </tr>\n",
              "  </tbody>\n",
              "</table>\n",
              "<p>16598 rows × 4 columns</p>\n",
              "</div>"
            ],
            "text/plain": [
              "      NA_Sales EU_Sales JP_Sales Other_Sales\n",
              "0         0.04        0        0           0\n",
              "1         0.17        0        0        0.01\n",
              "2            0        0     0.02           0\n",
              "3         0.04        0        0           0\n",
              "4         0.12     0.09        0        0.04\n",
              "...        ...      ...      ...         ...\n",
              "16593     0.15     0.04        0        0.01\n",
              "16594     0.01        0        0           0\n",
              "16595     0.44     0.19     0.03        0.13\n",
              "16596     0.05     0.05     0.25        0.03\n",
              "16597        0        0     0.16        0.01\n",
              "\n",
              "[16598 rows x 4 columns]"
            ]
          },
          "metadata": {
            "tags": []
          },
          "execution_count": 37
        }
      ]
    },
    {
      "cell_type": "code",
      "metadata": {
        "id": "ra-9s7lOMPGk"
      },
      "source": [
        "def fuction(x):\r\n",
        "  if 'M' in x :\r\n",
        "    return (float(x.replace('M','')))\r\n",
        "  elif 'K' in x :\r\n",
        "    return (float(x.replace('K','')))*0.001\r\n",
        "  else :\r\n",
        "    return float(x)   "
      ],
      "execution_count": 38,
      "outputs": []
    },
    {
      "cell_type": "code",
      "metadata": {
        "id": "CsuCy5zNM6hF"
      },
      "source": [
        "subset_NA_Sales= subset1[\"NA_Sales\"].apply(lambda x : fuction(x))\r\n",
        "subset_EU_Sales= subset1[\"EU_Sales\"].apply(lambda x : fuction(x))\r\n",
        "subset_JP_Sales= subset1[\"JP_Sales\"].apply(lambda x : fuction(x))\r\n",
        "subset_Other_Sales= subset1[\"Other_Sales\"].apply(lambda x : fuction(x))"
      ],
      "execution_count": 39,
      "outputs": []
    },
    {
      "cell_type": "code",
      "metadata": {
        "colab": {
          "base_uri": "https://localhost:8080/"
        },
        "id": "BAja7rqvPJT1",
        "outputId": "b8bab9ce-96dc-402a-bb42-b4e0b409bf0b"
      },
      "source": [
        "new_subset = pd.concat([subset_NA_Sales, subset_EU_Sales, subset_JP_Sales, subset_Other_Sales], axis=1)\r\n",
        "new_subset.info()\r\n",
        "#new_subset = k와 m 이 정리된 sub data set"
      ],
      "execution_count": 40,
      "outputs": [
        {
          "output_type": "stream",
          "text": [
            "<class 'pandas.core.frame.DataFrame'>\n",
            "RangeIndex: 16598 entries, 0 to 16597\n",
            "Data columns (total 4 columns):\n",
            " #   Column       Non-Null Count  Dtype  \n",
            "---  ------       --------------  -----  \n",
            " 0   NA_Sales     16598 non-null  float64\n",
            " 1   EU_Sales     16598 non-null  float64\n",
            " 2   JP_Sales     16598 non-null  float64\n",
            " 3   Other_Sales  16598 non-null  float64\n",
            "dtypes: float64(4)\n",
            "memory usage: 518.8 KB\n"
          ],
          "name": "stdout"
        }
      ]
    },
    {
      "cell_type": "code",
      "metadata": {
        "id": "oTtFZDhtHhez",
        "colab": {
          "base_uri": "https://localhost:8080/",
          "height": 391
        },
        "outputId": "f9c651fd-3cff-468e-e2ed-b2aa803734df"
      },
      "source": [
        "df2 = df1.drop(['NA_Sales','EU_Sales', 'JP_Sales','Other_Sales'], axis = 1)\r\n",
        "df2\r\n",
        "# 기존에 있던 열 지우기 "
      ],
      "execution_count": 41,
      "outputs": [
        {
          "output_type": "execute_result",
          "data": {
            "text/html": [
              "<div>\n",
              "<style scoped>\n",
              "    .dataframe tbody tr th:only-of-type {\n",
              "        vertical-align: middle;\n",
              "    }\n",
              "\n",
              "    .dataframe tbody tr th {\n",
              "        vertical-align: top;\n",
              "    }\n",
              "\n",
              "    .dataframe thead th {\n",
              "        text-align: right;\n",
              "    }\n",
              "</style>\n",
              "<table border=\"1\" class=\"dataframe\">\n",
              "  <thead>\n",
              "    <tr style=\"text-align: right;\">\n",
              "      <th></th>\n",
              "      <th>Name</th>\n",
              "      <th>Platform</th>\n",
              "      <th>Year</th>\n",
              "      <th>Genre</th>\n",
              "      <th>Publisher</th>\n",
              "    </tr>\n",
              "  </thead>\n",
              "  <tbody>\n",
              "    <tr>\n",
              "      <th>0</th>\n",
              "      <td>Candace Kane's Candy Factory</td>\n",
              "      <td>DS</td>\n",
              "      <td>2008.0</td>\n",
              "      <td>Action</td>\n",
              "      <td>Destineer</td>\n",
              "    </tr>\n",
              "    <tr>\n",
              "      <th>1</th>\n",
              "      <td>The Munchables</td>\n",
              "      <td>Wii</td>\n",
              "      <td>2009.0</td>\n",
              "      <td>Action</td>\n",
              "      <td>Namco Bandai Games</td>\n",
              "    </tr>\n",
              "    <tr>\n",
              "      <th>2</th>\n",
              "      <td>Otome wa Oanesama Boku ni Koi Shiteru Portable</td>\n",
              "      <td>PSP</td>\n",
              "      <td>2010.0</td>\n",
              "      <td>Adventure</td>\n",
              "      <td>Alchemist</td>\n",
              "    </tr>\n",
              "    <tr>\n",
              "      <th>3</th>\n",
              "      <td>Deal or No Deal: Special Edition</td>\n",
              "      <td>DS</td>\n",
              "      <td>2010.0</td>\n",
              "      <td>Misc</td>\n",
              "      <td>Zoo Games</td>\n",
              "    </tr>\n",
              "    <tr>\n",
              "      <th>4</th>\n",
              "      <td>Ben 10 Ultimate Alien: Cosmic Destruction</td>\n",
              "      <td>PS3</td>\n",
              "      <td>2010.0</td>\n",
              "      <td>Platform</td>\n",
              "      <td>D3Publisher</td>\n",
              "    </tr>\n",
              "    <tr>\n",
              "      <th>...</th>\n",
              "      <td>...</td>\n",
              "      <td>...</td>\n",
              "      <td>...</td>\n",
              "      <td>...</td>\n",
              "      <td>...</td>\n",
              "    </tr>\n",
              "    <tr>\n",
              "      <th>16593</th>\n",
              "      <td>Ice Age 2: The Meltdown</td>\n",
              "      <td>GC</td>\n",
              "      <td>2006.0</td>\n",
              "      <td>Platform</td>\n",
              "      <td>Vivendi Games</td>\n",
              "    </tr>\n",
              "    <tr>\n",
              "      <th>16594</th>\n",
              "      <td>Rainbow Islands: Revolution</td>\n",
              "      <td>PSP</td>\n",
              "      <td>2005.0</td>\n",
              "      <td>Action</td>\n",
              "      <td>Rising Star Games</td>\n",
              "    </tr>\n",
              "    <tr>\n",
              "      <th>16595</th>\n",
              "      <td>NBA 2K16</td>\n",
              "      <td>PS3</td>\n",
              "      <td>2015.0</td>\n",
              "      <td>Sports</td>\n",
              "      <td>Take-Two Interactive</td>\n",
              "    </tr>\n",
              "    <tr>\n",
              "      <th>16596</th>\n",
              "      <td>Toukiden: The Age of Demons</td>\n",
              "      <td>PSV</td>\n",
              "      <td>2013.0</td>\n",
              "      <td>Action</td>\n",
              "      <td>Tecmo Koei</td>\n",
              "    </tr>\n",
              "    <tr>\n",
              "      <th>16597</th>\n",
              "      <td>The King of Fighters '95</td>\n",
              "      <td>PS</td>\n",
              "      <td>1996.0</td>\n",
              "      <td>Fighting</td>\n",
              "      <td>Sony Computer Entertainment</td>\n",
              "    </tr>\n",
              "  </tbody>\n",
              "</table>\n",
              "<p>16598 rows × 5 columns</p>\n",
              "</div>"
            ],
            "text/plain": [
              "                                                 Name  ...                    Publisher\n",
              "0                        Candace Kane's Candy Factory  ...                    Destineer\n",
              "1                                      The Munchables  ...           Namco Bandai Games\n",
              "2      Otome wa Oanesama Boku ni Koi Shiteru Portable  ...                    Alchemist\n",
              "3                    Deal or No Deal: Special Edition  ...                    Zoo Games\n",
              "4           Ben 10 Ultimate Alien: Cosmic Destruction  ...                  D3Publisher\n",
              "...                                               ...  ...                          ...\n",
              "16593                         Ice Age 2: The Meltdown  ...                Vivendi Games\n",
              "16594                     Rainbow Islands: Revolution  ...            Rising Star Games\n",
              "16595                                        NBA 2K16  ...         Take-Two Interactive\n",
              "16596                     Toukiden: The Age of Demons  ...                   Tecmo Koei\n",
              "16597                        The King of Fighters '95  ...  Sony Computer Entertainment\n",
              "\n",
              "[16598 rows x 5 columns]"
            ]
          },
          "metadata": {
            "tags": []
          },
          "execution_count": 41
        }
      ]
    },
    {
      "cell_type": "code",
      "metadata": {
        "colab": {
          "base_uri": "https://localhost:8080/"
        },
        "id": "cnywk_3QVEWG",
        "outputId": "dbd76e5f-4356-447e-828f-65a22ed9dbbf"
      },
      "source": [
        "new_df = pd.concat([df2, new_subset], axis=1)\r\n",
        "new_df.info()"
      ],
      "execution_count": 42,
      "outputs": [
        {
          "output_type": "stream",
          "text": [
            "<class 'pandas.core.frame.DataFrame'>\n",
            "RangeIndex: 16598 entries, 0 to 16597\n",
            "Data columns (total 9 columns):\n",
            " #   Column       Non-Null Count  Dtype  \n",
            "---  ------       --------------  -----  \n",
            " 0   Name         16598 non-null  object \n",
            " 1   Platform     16598 non-null  object \n",
            " 2   Year         16327 non-null  float64\n",
            " 3   Genre        16548 non-null  object \n",
            " 4   Publisher    16540 non-null  object \n",
            " 5   NA_Sales     16598 non-null  float64\n",
            " 6   EU_Sales     16598 non-null  float64\n",
            " 7   JP_Sales     16598 non-null  float64\n",
            " 8   Other_Sales  16598 non-null  float64\n",
            "dtypes: float64(5), object(4)\n",
            "memory usage: 1.1+ MB\n"
          ],
          "name": "stdout"
        }
      ]
    },
    {
      "cell_type": "markdown",
      "metadata": {
        "id": "mMTXZ8zkaHKM"
      },
      "source": [
        "####**판매량 총합 추가** "
      ]
    },
    {
      "cell_type": "code",
      "metadata": {
        "id": "ZOqfNPeUQvMC",
        "colab": {
          "base_uri": "https://localhost:8080/"
        },
        "outputId": "b4dec85c-1259-43a8-c6d0-1dbd11fecbe0"
      },
      "source": [
        "#열추가 \r\n",
        "#판매량 총합 추가 \r\n",
        "new_df[\"overall_sales\"] = (new_df['NA_Sales'] + new_df['EU_Sales'] + new_df['JP_Sales'] + new_df['Other_Sales']).round(2)\r\n",
        "print(new_df.head())\r\n",
        "print(new_df.info())"
      ],
      "execution_count": 55,
      "outputs": [
        {
          "output_type": "stream",
          "text": [
            "                                             Name  ... overall_sales\n",
            "0                    Candace Kane's Candy Factory  ...          0.04\n",
            "1                                  The Munchables  ...          0.18\n",
            "2  Otome wa Oanesama Boku ni Koi Shiteru Portable  ...          0.02\n",
            "3                Deal or No Deal: Special Edition  ...          0.04\n",
            "4       Ben 10 Ultimate Alien: Cosmic Destruction  ...          0.25\n",
            "\n",
            "[5 rows x 10 columns]\n",
            "<class 'pandas.core.frame.DataFrame'>\n",
            "RangeIndex: 16598 entries, 0 to 16597\n",
            "Data columns (total 10 columns):\n",
            " #   Column         Non-Null Count  Dtype  \n",
            "---  ------         --------------  -----  \n",
            " 0   Name           16598 non-null  object \n",
            " 1   Platform       16598 non-null  object \n",
            " 2   Year           16327 non-null  float64\n",
            " 3   Genre          16548 non-null  object \n",
            " 4   Publisher      16540 non-null  object \n",
            " 5   NA_Sales       16598 non-null  float64\n",
            " 6   EU_Sales       16598 non-null  float64\n",
            " 7   JP_Sales       16598 non-null  float64\n",
            " 8   Other_Sales    16598 non-null  float64\n",
            " 9   overall_sales  16598 non-null  float64\n",
            "dtypes: float64(6), object(4)\n",
            "memory usage: 1.3+ MB\n",
            "None\n"
          ],
          "name": "stdout"
        }
      ]
    },
    {
      "cell_type": "code",
      "metadata": {
        "id": "M1SahJTvRyhD",
        "colab": {
          "base_uri": "https://localhost:8080/",
          "height": 191
        },
        "outputId": "238ee1a2-3591-402f-9261-0e7ad1645e4e"
      },
      "source": [
        "sort_overall_new_df1 = new_df.sort_values(['overall_sales'], ascending=False)\r\n",
        "sort_overall_new_df1.head()"
      ],
      "execution_count": 56,
      "outputs": [
        {
          "output_type": "execute_result",
          "data": {
            "text/html": [
              "<div>\n",
              "<style scoped>\n",
              "    .dataframe tbody tr th:only-of-type {\n",
              "        vertical-align: middle;\n",
              "    }\n",
              "\n",
              "    .dataframe tbody tr th {\n",
              "        vertical-align: top;\n",
              "    }\n",
              "\n",
              "    .dataframe thead th {\n",
              "        text-align: right;\n",
              "    }\n",
              "</style>\n",
              "<table border=\"1\" class=\"dataframe\">\n",
              "  <thead>\n",
              "    <tr style=\"text-align: right;\">\n",
              "      <th></th>\n",
              "      <th>Name</th>\n",
              "      <th>Platform</th>\n",
              "      <th>Year</th>\n",
              "      <th>Genre</th>\n",
              "      <th>Publisher</th>\n",
              "      <th>NA_Sales</th>\n",
              "      <th>EU_Sales</th>\n",
              "      <th>JP_Sales</th>\n",
              "      <th>Other_Sales</th>\n",
              "      <th>overall_sales</th>\n",
              "    </tr>\n",
              "  </thead>\n",
              "  <tbody>\n",
              "    <tr>\n",
              "      <th>2908</th>\n",
              "      <td>Wii Sports</td>\n",
              "      <td>Wii</td>\n",
              "      <td>2006.0</td>\n",
              "      <td>Sports</td>\n",
              "      <td>Nintendo</td>\n",
              "      <td>41.49</td>\n",
              "      <td>29.02</td>\n",
              "      <td>3.77</td>\n",
              "      <td>8.46</td>\n",
              "      <td>82.74</td>\n",
              "    </tr>\n",
              "    <tr>\n",
              "      <th>4199</th>\n",
              "      <td>Super Mario Bros.</td>\n",
              "      <td>NES</td>\n",
              "      <td>1985.0</td>\n",
              "      <td>Platform</td>\n",
              "      <td>Nintendo</td>\n",
              "      <td>29.08</td>\n",
              "      <td>3.58</td>\n",
              "      <td>6.81</td>\n",
              "      <td>0.77</td>\n",
              "      <td>40.24</td>\n",
              "    </tr>\n",
              "    <tr>\n",
              "      <th>12579</th>\n",
              "      <td>Mario Kart Wii</td>\n",
              "      <td>Wii</td>\n",
              "      <td>2008.0</td>\n",
              "      <td>Racing</td>\n",
              "      <td>Nintendo</td>\n",
              "      <td>15.85</td>\n",
              "      <td>12.88</td>\n",
              "      <td>3.79</td>\n",
              "      <td>3.31</td>\n",
              "      <td>35.83</td>\n",
              "    </tr>\n",
              "    <tr>\n",
              "      <th>3352</th>\n",
              "      <td>Wii Sports Resort</td>\n",
              "      <td>Wii</td>\n",
              "      <td>2009.0</td>\n",
              "      <td>Sports</td>\n",
              "      <td>Nintendo</td>\n",
              "      <td>15.75</td>\n",
              "      <td>11.01</td>\n",
              "      <td>3.28</td>\n",
              "      <td>2.96</td>\n",
              "      <td>33.00</td>\n",
              "    </tr>\n",
              "    <tr>\n",
              "      <th>7829</th>\n",
              "      <td>Pokemon Red/Pokemon Blue</td>\n",
              "      <td>GB</td>\n",
              "      <td>1996.0</td>\n",
              "      <td>Role-Playing</td>\n",
              "      <td>Nintendo</td>\n",
              "      <td>11.27</td>\n",
              "      <td>8.89</td>\n",
              "      <td>10.22</td>\n",
              "      <td>1.00</td>\n",
              "      <td>31.38</td>\n",
              "    </tr>\n",
              "  </tbody>\n",
              "</table>\n",
              "</div>"
            ],
            "text/plain": [
              "                           Name Platform  ...  Other_Sales overall_sales\n",
              "2908                 Wii Sports      Wii  ...         8.46         82.74\n",
              "4199          Super Mario Bros.      NES  ...         0.77         40.24\n",
              "12579            Mario Kart Wii      Wii  ...         3.31         35.83\n",
              "3352          Wii Sports Resort      Wii  ...         2.96         33.00\n",
              "7829   Pokemon Red/Pokemon Blue       GB  ...         1.00         31.38\n",
              "\n",
              "[5 rows x 10 columns]"
            ]
          },
          "metadata": {
            "tags": []
          },
          "execution_count": 56
        }
      ]
    },
    {
      "cell_type": "code",
      "metadata": {
        "id": "AKYCuxDeTmeS"
      },
      "source": [
        "#총합의 상위 50개를 살펴 본 결과 년도에 NAN값이 나타나지 않는다 . \r\n",
        "#NAN값을 처리하는 것이 그렇게 중요하지 않은듯 하다.\r\n",
        "#Nan값을 과감하게 지우자."
      ],
      "execution_count": 45,
      "outputs": []
    },
    {
      "cell_type": "code",
      "metadata": {
        "id": "46uK2EzlUmXr",
        "colab": {
          "base_uri": "https://localhost:8080/"
        },
        "outputId": "101cf606-e943-4928-9e26-290cf5ea33c2"
      },
      "source": [
        "df1_after_nan = sort_overall_new_df1.dropna()\r\n",
        "print(df1_after_nan)\r\n",
        "print()"
      ],
      "execution_count": 57,
      "outputs": [
        {
          "output_type": "stream",
          "text": [
            "                                                    Name  ... overall_sales\n",
            "2908                                          Wii Sports  ...         82.74\n",
            "4199                                   Super Mario Bros.  ...         40.24\n",
            "12579                                     Mario Kart Wii  ...         35.83\n",
            "3352                                   Wii Sports Resort  ...         33.00\n",
            "7829                            Pokemon Red/Pokemon Blue  ...         31.38\n",
            "...                                                  ...  ...           ...\n",
            "14265         Nitroplus Blasterz: Heroines Infinite Duel  ...          0.01\n",
            "2311   Shinseiki Evangelion: Koutetsu no Girlfriend 2...  ...          0.01\n",
            "11376                                     Rail Simulator  ...          0.01\n",
            "3571                         Hyperdimension Neptunia mk2  ...          0.01\n",
            "5598    SCORE International Baja 1000: The Official Game  ...          0.00\n",
            "\n",
            "[16241 rows x 10 columns]\n",
            "\n"
          ],
          "name": "stdout"
        }
      ]
    },
    {
      "cell_type": "code",
      "metadata": {
        "id": "t7kRSIgFU-FL",
        "colab": {
          "base_uri": "https://localhost:8080/",
          "height": 277
        },
        "outputId": "63853a10-55a3-4205-89cd-16f53a7f2e03"
      },
      "source": [
        "df1_after_nan.describe()"
      ],
      "execution_count": 58,
      "outputs": [
        {
          "output_type": "execute_result",
          "data": {
            "text/html": [
              "<div>\n",
              "<style scoped>\n",
              "    .dataframe tbody tr th:only-of-type {\n",
              "        vertical-align: middle;\n",
              "    }\n",
              "\n",
              "    .dataframe tbody tr th {\n",
              "        vertical-align: top;\n",
              "    }\n",
              "\n",
              "    .dataframe thead th {\n",
              "        text-align: right;\n",
              "    }\n",
              "</style>\n",
              "<table border=\"1\" class=\"dataframe\">\n",
              "  <thead>\n",
              "    <tr style=\"text-align: right;\">\n",
              "      <th></th>\n",
              "      <th>Year</th>\n",
              "      <th>NA_Sales</th>\n",
              "      <th>EU_Sales</th>\n",
              "      <th>JP_Sales</th>\n",
              "      <th>Other_Sales</th>\n",
              "      <th>overall_sales</th>\n",
              "    </tr>\n",
              "  </thead>\n",
              "  <tbody>\n",
              "    <tr>\n",
              "      <th>count</th>\n",
              "      <td>16241.000000</td>\n",
              "      <td>16241.000000</td>\n",
              "      <td>16241.000000</td>\n",
              "      <td>16241.000000</td>\n",
              "      <td>16241.000000</td>\n",
              "      <td>16241.000000</td>\n",
              "    </tr>\n",
              "    <tr>\n",
              "      <th>mean</th>\n",
              "      <td>1994.178437</td>\n",
              "      <td>0.265195</td>\n",
              "      <td>0.147378</td>\n",
              "      <td>0.078283</td>\n",
              "      <td>0.048234</td>\n",
              "      <td>0.539091</td>\n",
              "    </tr>\n",
              "    <tr>\n",
              "      <th>std</th>\n",
              "      <td>155.484265</td>\n",
              "      <td>0.822431</td>\n",
              "      <td>0.508340</td>\n",
              "      <td>0.309272</td>\n",
              "      <td>0.189678</td>\n",
              "      <td>1.563905</td>\n",
              "    </tr>\n",
              "    <tr>\n",
              "      <th>min</th>\n",
              "      <td>0.000000</td>\n",
              "      <td>0.000000</td>\n",
              "      <td>0.000000</td>\n",
              "      <td>0.000000</td>\n",
              "      <td>0.000000</td>\n",
              "      <td>0.000000</td>\n",
              "    </tr>\n",
              "    <tr>\n",
              "      <th>25%</th>\n",
              "      <td>2003.000000</td>\n",
              "      <td>0.000000</td>\n",
              "      <td>0.000000</td>\n",
              "      <td>0.000000</td>\n",
              "      <td>0.000000</td>\n",
              "      <td>0.060000</td>\n",
              "    </tr>\n",
              "    <tr>\n",
              "      <th>50%</th>\n",
              "      <td>2007.000000</td>\n",
              "      <td>0.080000</td>\n",
              "      <td>0.020000</td>\n",
              "      <td>0.000000</td>\n",
              "      <td>0.010000</td>\n",
              "      <td>0.170000</td>\n",
              "    </tr>\n",
              "    <tr>\n",
              "      <th>75%</th>\n",
              "      <td>2010.000000</td>\n",
              "      <td>0.240000</td>\n",
              "      <td>0.110000</td>\n",
              "      <td>0.040000</td>\n",
              "      <td>0.040000</td>\n",
              "      <td>0.480000</td>\n",
              "    </tr>\n",
              "    <tr>\n",
              "      <th>max</th>\n",
              "      <td>2020.000000</td>\n",
              "      <td>41.490000</td>\n",
              "      <td>29.020000</td>\n",
              "      <td>10.220000</td>\n",
              "      <td>10.570000</td>\n",
              "      <td>82.740000</td>\n",
              "    </tr>\n",
              "  </tbody>\n",
              "</table>\n",
              "</div>"
            ],
            "text/plain": [
              "               Year      NA_Sales  ...   Other_Sales  overall_sales\n",
              "count  16241.000000  16241.000000  ...  16241.000000   16241.000000\n",
              "mean    1994.178437      0.265195  ...      0.048234       0.539091\n",
              "std      155.484265      0.822431  ...      0.189678       1.563905\n",
              "min        0.000000      0.000000  ...      0.000000       0.000000\n",
              "25%     2003.000000      0.000000  ...      0.000000       0.060000\n",
              "50%     2007.000000      0.080000  ...      0.010000       0.170000\n",
              "75%     2010.000000      0.240000  ...      0.040000       0.480000\n",
              "max     2020.000000     41.490000  ...     10.570000      82.740000\n",
              "\n",
              "[8 rows x 6 columns]"
            ]
          },
          "metadata": {
            "tags": []
          },
          "execution_count": 58
        }
      ]
    },
    {
      "cell_type": "markdown",
      "metadata": {
        "id": "6DJGNqenR9vR"
      },
      "source": [
        "# **Year값** 수정하기 \r\n"
      ]
    },
    {
      "cell_type": "code",
      "metadata": {
        "colab": {
          "base_uri": "https://localhost:8080/",
          "height": 191
        },
        "id": "4zH9tbmtaRjE",
        "outputId": "0d5eac10-7363-40cb-8841-60bfaa35a19e"
      },
      "source": [
        "df1_after_nan.head()"
      ],
      "execution_count": 59,
      "outputs": [
        {
          "output_type": "execute_result",
          "data": {
            "text/html": [
              "<div>\n",
              "<style scoped>\n",
              "    .dataframe tbody tr th:only-of-type {\n",
              "        vertical-align: middle;\n",
              "    }\n",
              "\n",
              "    .dataframe tbody tr th {\n",
              "        vertical-align: top;\n",
              "    }\n",
              "\n",
              "    .dataframe thead th {\n",
              "        text-align: right;\n",
              "    }\n",
              "</style>\n",
              "<table border=\"1\" class=\"dataframe\">\n",
              "  <thead>\n",
              "    <tr style=\"text-align: right;\">\n",
              "      <th></th>\n",
              "      <th>Name</th>\n",
              "      <th>Platform</th>\n",
              "      <th>Year</th>\n",
              "      <th>Genre</th>\n",
              "      <th>Publisher</th>\n",
              "      <th>NA_Sales</th>\n",
              "      <th>EU_Sales</th>\n",
              "      <th>JP_Sales</th>\n",
              "      <th>Other_Sales</th>\n",
              "      <th>overall_sales</th>\n",
              "    </tr>\n",
              "  </thead>\n",
              "  <tbody>\n",
              "    <tr>\n",
              "      <th>2908</th>\n",
              "      <td>Wii Sports</td>\n",
              "      <td>Wii</td>\n",
              "      <td>2006.0</td>\n",
              "      <td>Sports</td>\n",
              "      <td>Nintendo</td>\n",
              "      <td>41.49</td>\n",
              "      <td>29.02</td>\n",
              "      <td>3.77</td>\n",
              "      <td>8.46</td>\n",
              "      <td>82.74</td>\n",
              "    </tr>\n",
              "    <tr>\n",
              "      <th>4199</th>\n",
              "      <td>Super Mario Bros.</td>\n",
              "      <td>NES</td>\n",
              "      <td>1985.0</td>\n",
              "      <td>Platform</td>\n",
              "      <td>Nintendo</td>\n",
              "      <td>29.08</td>\n",
              "      <td>3.58</td>\n",
              "      <td>6.81</td>\n",
              "      <td>0.77</td>\n",
              "      <td>40.24</td>\n",
              "    </tr>\n",
              "    <tr>\n",
              "      <th>12579</th>\n",
              "      <td>Mario Kart Wii</td>\n",
              "      <td>Wii</td>\n",
              "      <td>2008.0</td>\n",
              "      <td>Racing</td>\n",
              "      <td>Nintendo</td>\n",
              "      <td>15.85</td>\n",
              "      <td>12.88</td>\n",
              "      <td>3.79</td>\n",
              "      <td>3.31</td>\n",
              "      <td>35.83</td>\n",
              "    </tr>\n",
              "    <tr>\n",
              "      <th>3352</th>\n",
              "      <td>Wii Sports Resort</td>\n",
              "      <td>Wii</td>\n",
              "      <td>2009.0</td>\n",
              "      <td>Sports</td>\n",
              "      <td>Nintendo</td>\n",
              "      <td>15.75</td>\n",
              "      <td>11.01</td>\n",
              "      <td>3.28</td>\n",
              "      <td>2.96</td>\n",
              "      <td>33.00</td>\n",
              "    </tr>\n",
              "    <tr>\n",
              "      <th>7829</th>\n",
              "      <td>Pokemon Red/Pokemon Blue</td>\n",
              "      <td>GB</td>\n",
              "      <td>1996.0</td>\n",
              "      <td>Role-Playing</td>\n",
              "      <td>Nintendo</td>\n",
              "      <td>11.27</td>\n",
              "      <td>8.89</td>\n",
              "      <td>10.22</td>\n",
              "      <td>1.00</td>\n",
              "      <td>31.38</td>\n",
              "    </tr>\n",
              "  </tbody>\n",
              "</table>\n",
              "</div>"
            ],
            "text/plain": [
              "                           Name Platform  ...  Other_Sales overall_sales\n",
              "2908                 Wii Sports      Wii  ...         8.46         82.74\n",
              "4199          Super Mario Bros.      NES  ...         0.77         40.24\n",
              "12579            Mario Kart Wii      Wii  ...         3.31         35.83\n",
              "3352          Wii Sports Resort      Wii  ...         2.96         33.00\n",
              "7829   Pokemon Red/Pokemon Blue       GB  ...         1.00         31.38\n",
              "\n",
              "[5 rows x 10 columns]"
            ]
          },
          "metadata": {
            "tags": []
          },
          "execution_count": 59
        }
      ]
    },
    {
      "cell_type": "markdown",
      "metadata": {
        "id": "e_O61TmbanQc"
      },
      "source": [
        "\r\n",
        "**이상한점** \r\n",
        "\r\n",
        "Year에서 최솟값이 0 이고 평균이 1994 라는 이야기는 숫자가 잘못 설정 되었음을 말해준다. \r\n",
        "1. 30 미만은 2000년도로 바꾸고  ( + 2000)\r\n",
        "2. 30 이상은 1900년도로 바꾼다. (+ 1900)\r\n"
      ]
    },
    {
      "cell_type": "code",
      "metadata": {
        "id": "XdqRI5FkDdO6"
      },
      "source": [
        "def set (x):\r\n",
        "    if x < 30 :\r\n",
        "        return x + 2000\r\n",
        "    elif x >= 30 and x < 100 :\r\n",
        "        return x + 1900\r\n",
        "    else:\r\n",
        "        return x"
      ],
      "execution_count": 60,
      "outputs": []
    },
    {
      "cell_type": "code",
      "metadata": {
        "id": "Hl2_oZgbME-L",
        "colab": {
          "base_uri": "https://localhost:8080/"
        },
        "outputId": "54a62be7-9eba-4595-dc7b-b056776f1165"
      },
      "source": [
        "df1_after_nan1= df1_after_nan[\"Year\"].apply(lambda x : set(x))\r\n",
        "df1_after_nan1.mean() \r\n",
        "#수정완료"
      ],
      "execution_count": 62,
      "outputs": [
        {
          "output_type": "execute_result",
          "data": {
            "text/plain": [
              "2006.4067483529338"
            ]
          },
          "metadata": {
            "tags": []
          },
          "execution_count": 62
        }
      ]
    },
    {
      "cell_type": "code",
      "metadata": {
        "id": "b5pzT1XD8XyG"
      },
      "source": [
        "a = df1_after_nan.drop(['Year'], axis = 1)"
      ],
      "execution_count": 72,
      "outputs": []
    },
    {
      "cell_type": "code",
      "metadata": {
        "id": "zTkiztKp9mYe",
        "outputId": "bc14a093-e51b-4545-b234-eaa5943b7599",
        "colab": {
          "base_uri": "https://localhost:8080/",
          "height": 277
        }
      },
      "source": [
        "df1_after_year = pd.concat([df1_after_nan1, a], axis = 1)\r\n",
        "df1_after_year.describe()\r\n",
        "#전처리 끝"
      ],
      "execution_count": 74,
      "outputs": [
        {
          "output_type": "execute_result",
          "data": {
            "text/html": [
              "<div>\n",
              "<style scoped>\n",
              "    .dataframe tbody tr th:only-of-type {\n",
              "        vertical-align: middle;\n",
              "    }\n",
              "\n",
              "    .dataframe tbody tr th {\n",
              "        vertical-align: top;\n",
              "    }\n",
              "\n",
              "    .dataframe thead th {\n",
              "        text-align: right;\n",
              "    }\n",
              "</style>\n",
              "<table border=\"1\" class=\"dataframe\">\n",
              "  <thead>\n",
              "    <tr style=\"text-align: right;\">\n",
              "      <th></th>\n",
              "      <th>Year</th>\n",
              "      <th>NA_Sales</th>\n",
              "      <th>EU_Sales</th>\n",
              "      <th>JP_Sales</th>\n",
              "      <th>Other_Sales</th>\n",
              "      <th>overall_sales</th>\n",
              "    </tr>\n",
              "  </thead>\n",
              "  <tbody>\n",
              "    <tr>\n",
              "      <th>count</th>\n",
              "      <td>16241.000000</td>\n",
              "      <td>16241.000000</td>\n",
              "      <td>16241.000000</td>\n",
              "      <td>16241.000000</td>\n",
              "      <td>16241.000000</td>\n",
              "      <td>16241.000000</td>\n",
              "    </tr>\n",
              "    <tr>\n",
              "      <th>mean</th>\n",
              "      <td>2006.406748</td>\n",
              "      <td>0.265195</td>\n",
              "      <td>0.147378</td>\n",
              "      <td>0.078283</td>\n",
              "      <td>0.048234</td>\n",
              "      <td>0.539091</td>\n",
              "    </tr>\n",
              "    <tr>\n",
              "      <th>std</th>\n",
              "      <td>5.832087</td>\n",
              "      <td>0.822431</td>\n",
              "      <td>0.508340</td>\n",
              "      <td>0.309272</td>\n",
              "      <td>0.189678</td>\n",
              "      <td>1.563905</td>\n",
              "    </tr>\n",
              "    <tr>\n",
              "      <th>min</th>\n",
              "      <td>1980.000000</td>\n",
              "      <td>0.000000</td>\n",
              "      <td>0.000000</td>\n",
              "      <td>0.000000</td>\n",
              "      <td>0.000000</td>\n",
              "      <td>0.000000</td>\n",
              "    </tr>\n",
              "    <tr>\n",
              "      <th>25%</th>\n",
              "      <td>2003.000000</td>\n",
              "      <td>0.000000</td>\n",
              "      <td>0.000000</td>\n",
              "      <td>0.000000</td>\n",
              "      <td>0.000000</td>\n",
              "      <td>0.060000</td>\n",
              "    </tr>\n",
              "    <tr>\n",
              "      <th>50%</th>\n",
              "      <td>2007.000000</td>\n",
              "      <td>0.080000</td>\n",
              "      <td>0.020000</td>\n",
              "      <td>0.000000</td>\n",
              "      <td>0.010000</td>\n",
              "      <td>0.170000</td>\n",
              "    </tr>\n",
              "    <tr>\n",
              "      <th>75%</th>\n",
              "      <td>2010.000000</td>\n",
              "      <td>0.240000</td>\n",
              "      <td>0.110000</td>\n",
              "      <td>0.040000</td>\n",
              "      <td>0.040000</td>\n",
              "      <td>0.480000</td>\n",
              "    </tr>\n",
              "    <tr>\n",
              "      <th>max</th>\n",
              "      <td>2020.000000</td>\n",
              "      <td>41.490000</td>\n",
              "      <td>29.020000</td>\n",
              "      <td>10.220000</td>\n",
              "      <td>10.570000</td>\n",
              "      <td>82.740000</td>\n",
              "    </tr>\n",
              "  </tbody>\n",
              "</table>\n",
              "</div>"
            ],
            "text/plain": [
              "               Year      NA_Sales  ...   Other_Sales  overall_sales\n",
              "count  16241.000000  16241.000000  ...  16241.000000   16241.000000\n",
              "mean    2006.406748      0.265195  ...      0.048234       0.539091\n",
              "std        5.832087      0.822431  ...      0.189678       1.563905\n",
              "min     1980.000000      0.000000  ...      0.000000       0.000000\n",
              "25%     2003.000000      0.000000  ...      0.000000       0.060000\n",
              "50%     2007.000000      0.080000  ...      0.010000       0.170000\n",
              "75%     2010.000000      0.240000  ...      0.040000       0.480000\n",
              "max     2020.000000     41.490000  ...     10.570000      82.740000\n",
              "\n",
              "[8 rows x 6 columns]"
            ]
          },
          "metadata": {
            "tags": []
          },
          "execution_count": 74
        }
      ]
    },
    {
      "cell_type": "markdown",
      "metadata": {
        "id": "8WHl0h4u9aCe"
      },
      "source": [
        "# 요구조건 조사"
      ]
    }
  ]
}